{
 "cells": [
  {
   "cell_type": "code",
   "execution_count": 1,
   "metadata": {},
   "outputs": [],
   "source": [
    "import pandas as pd\n",
    "import numpy as np\n",
    "\n",
    "from sklearn import datasets\n",
    "from sklearn.linear_model import LinearRegression, LogisticRegression\n",
    "from sklearn.model_selection import train_test_split\n",
    "from sklearn.metrics import mean_squared_error, accuracy_score\n",
    "from sklearn.svm import SVC\n",
    "from sklearn.tree import DecisionTreeClassifier\n",
    "\n",
    "import matplotlib.pyplot as plt\n"
   ]
  },
  {
   "cell_type": "code",
   "execution_count": 2,
   "metadata": {},
   "outputs": [],
   "source": [
    "# Dane do regresji\n",
    "diabetes_data = datasets.load_diabetes(return_X_y=True, as_frame=True)\n",
    "\n",
    "diabetes_X_train, diabetes_X_test, diabetes_y_train, diabetes_y_test = train_test_split(\n",
    "    diabetes_data[0],\n",
    "    diabetes_data[1],\n",
    "    test_size=0.3,\n",
    "    random_state=42\n",
    ")\n",
    "\n",
    "# Dane do klasyfikacji\n",
    "bc_data = datasets.load_breast_cancer(return_X_y=True, as_frame=True)\n",
    "\n",
    "bc_X_train, bc_X_test, bc_y_train, bc_y_test = train_test_split(\n",
    "    bc_data[0],\n",
    "    bc_data[1],\n",
    "    test_size=0.3,\n",
    "    random_state=42\n",
    ")\n"
   ]
  },
  {
   "attachments": {},
   "cell_type": "markdown",
   "metadata": {},
   "source": [
    "## Regresja liniowa\n",
    "\n",
    "Dokumentacja:\n",
    "\n",
    "https://scikit-learn.org/stable/modules/generated/sklearn.linear_model.LinearRegression.html\n",
    "\n",
    "![image info](./image/linear.png)\n"
   ]
  },
  {
   "cell_type": "code",
   "execution_count": 3,
   "metadata": {},
   "outputs": [
    {
     "name": "stdout",
     "output_type": "stream",
     "text": [
      "MSE:  2821.738559584376\n"
     ]
    }
   ],
   "source": [
    "# Wczytanie modelu\n",
    "regr = LinearRegression()\n",
    "\n",
    "# Trenowanie modelu\n",
    "regr.fit(diabetes_X_train, diabetes_y_train)\n",
    "\n",
    "# Predykcja\n",
    "regr_preds = regr.predict(diabetes_X_test)\n",
    "print('MSE: ', mean_squared_error(diabetes_y_test, regr_preds))\n"
   ]
  },
  {
   "attachments": {},
   "cell_type": "markdown",
   "metadata": {},
   "source": [
    "## Regresja logistyczna\n",
    "\n",
    "Dokumentacja:\n",
    "\n",
    "https://scikit-learn.org/stable/modules/generated/sklearn.linear_model.LogisticRegression.html\n",
    "\n",
    "![image info](./image/logistic.png)\n"
   ]
  },
  {
   "cell_type": "code",
   "execution_count": 4,
   "metadata": {},
   "outputs": [
    {
     "name": "stdout",
     "output_type": "stream",
     "text": [
      "Accuracy:  0.9766081871345029\n"
     ]
    }
   ],
   "source": [
    "# Wczytanie modelu\n",
    "lregr = LogisticRegression(max_iter=10000)\n",
    "\n",
    "# Trenowanie modelu\n",
    "lregr.fit(bc_X_train, bc_y_train)\n",
    "\n",
    "# Predykcja\n",
    "lregr_preds = lregr.predict(bc_X_test)\n",
    "print('Accuracy: ', accuracy_score(bc_y_test, lregr_preds))\n"
   ]
  },
  {
   "attachments": {},
   "cell_type": "markdown",
   "metadata": {},
   "source": [
    "## SVM\n",
    "\n",
    "Dokumentacja:\n",
    "\n",
    "https://scikit-learn.org/stable/modules/generated/sklearn.svm.SVC.html\n",
    "\n",
    "![image info](./image/svm.png)\n",
    "\n"
   ]
  },
  {
   "cell_type": "code",
   "execution_count": 5,
   "metadata": {},
   "outputs": [
    {
     "name": "stdout",
     "output_type": "stream",
     "text": [
      "Accuracy:  0.935672514619883\n"
     ]
    }
   ],
   "source": [
    "# Wczytywanie modelu\n",
    "svc = SVC()\n",
    "\n",
    "# Trenowanie modelu\n",
    "svc.fit(bc_X_train, bc_y_train)\n",
    "\n",
    "# Predykcja\n",
    "svc_preds = svc.predict(bc_X_test)\n",
    "print('Accuracy: ', accuracy_score(bc_y_test, svc_preds))\n"
   ]
  },
  {
   "attachments": {},
   "cell_type": "markdown",
   "metadata": {},
   "source": [
    "# Drzewo decyzyjne\n",
    "\n",
    "Dokumentacja:\n",
    "\n",
    "https://scikit-learn.org/stable/modules/generated/sklearn.tree.DecisionTreeClassifier.html\n",
    "\n",
    "![image info](./image/dt.png)\n",
    "\n"
   ]
  },
  {
   "cell_type": "code",
   "execution_count": 6,
   "metadata": {},
   "outputs": [
    {
     "name": "stdout",
     "output_type": "stream",
     "text": [
      "Accuracy:  0.9239766081871345\n"
     ]
    }
   ],
   "source": [
    "# Wczytywanie modelu\n",
    "clf = DecisionTreeClassifier()\n",
    "\n",
    "# Trenowanie modelu\n",
    "clf.fit(bc_X_train, bc_y_train)\n",
    "\n",
    "# Predykcja\n",
    "clf_preds = clf.predict(bc_X_test)\n",
    "print('Accuracy: ', accuracy_score(bc_y_test, clf_preds))\n"
   ]
  },
  {
   "attachments": {},
   "cell_type": "markdown",
   "metadata": {},
   "source": [
    "## MiNI Hackathon\n",
    "\n",
    "Zadanie polega na przewidywaniu, czy dana osoba przetrwa katastrofę Titanica.\n",
    "\n",
    "Zalecane kroki do wypróbowania:\n",
    "\n",
    "- obróbka danych (uzupełnienie braków, usuwanie skrajnych wartości, niepotrzebnych kolumn?)\n",
    "- skalowanie danych?\n",
    "- zastosowanie modeli z warsztatu, dobór hiperparametrów\n",
    "\n",
    "Opis danych:\n",
    "\n",
    "![image info](./image/columns.png)\n"
   ]
  },
  {
   "cell_type": "code",
   "execution_count": 20,
   "metadata": {},
   "outputs": [],
   "source": [
    "train_df = pd.read_csv('./data/train.csv')\n",
    "test_df = pd.read_csv('./data/train.csv')\n"
   ]
  },
  {
   "cell_type": "code",
   "execution_count": null,
   "metadata": {},
   "outputs": [],
   "source": [
    "# Powodzenia!\n"
   ]
  }
 ],
 "metadata": {
  "kernelspec": {
   "display_name": "base",
   "language": "python",
   "name": "python3"
  },
  "language_info": {
   "codemirror_mode": {
    "name": "ipython",
    "version": 3
   },
   "file_extension": ".py",
   "mimetype": "text/x-python",
   "name": "python",
   "nbconvert_exporter": "python",
   "pygments_lexer": "ipython3",
   "version": "3.9.13"
  },
  "orig_nbformat": 4,
  "vscode": {
   "interpreter": {
    "hash": "75a7a2f2856d09d3581c769256ac1c015132059993c94c4aebdcd920fc505d70"
   }
  }
 },
 "nbformat": 4,
 "nbformat_minor": 2
}
